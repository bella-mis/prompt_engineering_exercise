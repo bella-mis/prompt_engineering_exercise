{
  "nbformat": 4,
  "nbformat_minor": 0,
  "metadata": {
    "colab": {
      "provenance": []
    },
    "kernelspec": {
      "name": "python3",
      "display_name": "Python 3"
    },
    "language_info": {
      "name": "python"
    }
  },
  "cells": [
    {
      "cell_type": "code",
      "source": [
        "from dataclasses import dataclass\n",
        "\n",
        "CATEGORIES = [\"missing order\", \"defective product\", \"refund request\", \"general inquiry\"]\n",
        "\n",
        "def classify_customer_message(msg: str) -> str:\n",
        "    msg = msg.lower()\n",
        "    if any(k in msg for k in [\n",
        "        \"hasn't arrived\", \"hasnt arrived\", \"not arrived\", \"never arrived\",\n",
        "        \"where is my order\", \"missing order\", \"still waiting\", \"no delivery\"\n",
        "    ]):\n",
        "        return \"missing order\"\n",
        "    if any(k in msg for k in [\n",
        "        \"defective\", \"broken\", \"damaged\", \"faulty\", \"ripped\", \"stain\",\n",
        "        \"doesn't work\", \"doesnt work\"\n",
        "    ]):\n",
        "        return \"defective product\"\n",
        "    if any(k in msg for k in [\n",
        "        \"refund\", \"money back\", \"return for a refund\", \"cancel my order and refund\"\n",
        "    ]):\n",
        "        return \"refund request\"\n",
        "    return \"general inquiry\"\n",
        "\n",
        "@dataclass\n",
        "class SupportResponse:\n",
        "    category: str\n",
        "    message: str\n",
        "\n",
        "def craft_response(category: str, original_msg: str) -> SupportResponse:\n",
        "    if category == \"missing order\":\n",
        "        text = (\n",
        "            \"I’m so sorry to hear that your hoodie hasn’t arrived yet! \"\n",
        "            \"I understand how frustrating that must be. Could you please share your order number \"\n",
        "            \"so I can look into the status of your delivery right away?\"\n",
        "        )\n",
        "    elif category == \"defective product\":\n",
        "        text = (\n",
        "            \"I’m sorry your item arrived in less than perfect condition. \"\n",
        "            \"Could you share your order number and a quick photo of the issue so I can fix this for you?\"\n",
        "        )\n",
        "    elif category == \"refund request\":\n",
        "        text = (\n",
        "            \"I’m sorry to hear this didn’t work out. \"\n",
        "            \"Please share your order number so I can help with the refund process.\"\n",
        "        )\n",
        "    else:\n",
        "        text = (\n",
        "            \"Thanks for reaching out! How can I help today? \"\n",
        "            \"If you have an order number, please include it for faster assistance.\"\n",
        "        )\n",
        "    return SupportResponse(category=category, message=text)\n",
        "\n",
        "# --- Interactive input in Colab ---\n",
        "customer_msg = input(\"Enter customer message: \")\n",
        "category = classify_customer_message(customer_msg)\n",
        "response = craft_response(category, customer_msg)\n",
        "\n",
        "print(\"\\nDetected category:\", category)\n",
        "print(\"Response:\\n\", response.message)\n"
      ],
      "metadata": {
        "colab": {
          "base_uri": "https://localhost:8080/"
        },
        "id": "JVUz1DU-QPUK",
        "outputId": "863db733-5b4a-4ba1-f62b-4e9cff64a174"
      },
      "execution_count": 4,
      "outputs": [
        {
          "output_type": "stream",
          "name": "stdout",
          "text": [
            "Enter customer message: I ordered a hoodie last week and it still hasn't arrived.\n",
            "\n",
            "Detected category: missing order\n",
            "Response:\n",
            " I’m so sorry to hear that your hoodie hasn’t arrived yet! I understand how frustrating that must be. Could you please share your order number so I can look into the status of your delivery right away?\n"
          ]
        }
      ]
    }
  ]
}