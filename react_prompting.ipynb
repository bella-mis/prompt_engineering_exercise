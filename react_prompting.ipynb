{
  "nbformat": 4,
  "nbformat_minor": 0,
  "metadata": {
    "colab": {
      "provenance": []
    },
    "kernelspec": {
      "name": "python3",
      "display_name": "Python 3"
    },
    "language_info": {
      "name": "python"
    }
  },
  "cells": [
    {
      "cell_type": "code",
      "source": [
        "from typing import Optional\n",
        "\n",
        "\n",
        "def classify_ticket(message: Optional[str]) -> str:\n",
        "    \"\"\"\n",
        "    Classify a customer support message into one of four categories.\n",
        "\n",
        "    Args:\n",
        "        message (Optional[str]): The text of the customer message.\n",
        "\n",
        "    Returns:\n",
        "        str: One of [\"missing order\", \"defective product\", \"refund request\", \"general inquiry\"].\n",
        "\n",
        "    Rules:\n",
        "        - \"missing order\" → if message contains \"not arrived\", \"missing\", \"late\", or \"hasn't come\".\n",
        "        - \"defective product\" → if message contains \"broken\", \"defective\", \"tear\", or \"damaged\".\n",
        "        - \"refund request\" → if message contains \"refund\", \"money back\", or \"return\".\n",
        "        - Otherwise → \"general inquiry\".\n",
        "    \"\"\"\n",
        "    if not isinstance(message, str) or not message.strip():\n",
        "        return \"general inquiry\"\n",
        "\n",
        "    msg = message.lower().strip()\n",
        "\n",
        "    # Keyword mappings\n",
        "    missing_keywords = [\"not arrived\", \"missing\", \"late\", \"hasn't come\"]\n",
        "    defective_keywords = [\"broken\", \"defective\", \"tear\", \"damaged\"]\n",
        "    refund_keywords = [\"refund\", \"money back\", \"return\"]\n",
        "\n",
        "    # Classification checks (priority order)\n",
        "    if any(keyword in msg for keyword in missing_keywords):\n",
        "        return \"missing order\"\n",
        "    if any(keyword in msg for keyword in defective_keywords):\n",
        "        return \"defective product\"\n",
        "    if any(keyword in msg for keyword in refund_keywords):\n",
        "        return \"refund request\"\n",
        "\n",
        "    return \"general inquiry\"\n",
        "\n",
        "\n",
        "# Time Complexity: O(n * k) where n = len(message), k = number of keywords (small constant).\n",
        "# Space Complexity: O(1) additional memory.\n",
        "if __name__ == \"__main__\":\n",
        "    print(classify_ticket(\"I ordered a hoodie and it hasn't come yet.\"))  # missing order\n",
        "    print(classify_ticket(\"The item arrived broken.\"))                    # defective product\n",
        "    print(classify_ticket(\"I'd like a refund, please.\"))                  # refund request\n",
        "    print(classify_ticket(\"Do you ship internationally?\"))                # general inquiry\n",
        "    print(classify_ticket(\"\"))                                            # general inquiry\n"
      ],
      "metadata": {
        "colab": {
          "base_uri": "https://localhost:8080/"
        },
        "id": "cfBngatERKwC",
        "outputId": "dfd7f38c-8d3c-44d0-c935-ef4eecff6270"
      },
      "execution_count": 6,
      "outputs": [
        {
          "output_type": "stream",
          "name": "stdout",
          "text": [
            "missing order\n",
            "defective product\n",
            "refund request\n",
            "general inquiry\n",
            "general inquiry\n"
          ]
        }
      ]
    }
  ]
}